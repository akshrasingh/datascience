{
 "cells": [
  {
   "cell_type": "markdown",
   "id": "983696bf-b3f0-44a3-a124-6aa23de06ace",
   "metadata": {},
   "source": [
    "<h1>Data Science Tools and Ecosystem</h1>"
   ]
  },
  {
   "cell_type": "markdown",
   "id": "061d3067-7553-4918-b6f3-47ed95bab35d",
   "metadata": {},
   "source": [
    "In this notebook, Data Science Tools and Ecosystem are summarized."
   ]
  },
  {
   "cell_type": "markdown",
   "id": "2e165e84-e4ad-470c-81b9-1ab5f7202075",
   "metadata": {},
   "source": [
    "<b>objectives\n",
    "1. Some of the popular languages that Data Scientists use\n",
    "2. some of the commonly used libraries by data scientists\n",
    "3. some data science tools\n",
    "   "
   ]
  },
  {
   "cell_type": "markdown",
   "id": "8a8df115-f030-400c-8c00-fde5ad2b2c33",
   "metadata": {},
   "source": [
    "Some of the popular languages that Data Scientists use are:\n",
    "1. python\n",
    "2. r programming \n",
    "3.sql \n",
    "4. apache spark \n"
   ]
  },
  {
   "cell_type": "markdown",
   "id": "43bb6f46-e591-446a-b291-f3930c740e8e",
   "metadata": {},
   "source": [
    "Some of the commonly used libraries used by Data Scientists include: \n",
    "1. pandas\n",
    "2. numpy\n",
    "3. matplotlin\n",
    "4. ggplot2\n",
    "   "
   ]
  },
  {
   "cell_type": "markdown",
   "id": "7b14b810-2b40-42ca-99c3-ee27eb98e1d0",
   "metadata": {},
   "source": [
    "Data Science tools\n",
    "1. jupyter\n",
    "2. r studio\n",
    "3 scala\n",
    "\n"
   ]
  },
  {
   "cell_type": "markdown",
   "id": "de647f85-d660-487e-9180-d89da8c4fc2f",
   "metadata": {},
   "source": [
    "<h3>Below are a few examples of evaluating arithmetic expressions in Python.</h3>\n"
   ]
  },
  {
   "cell_type": "code",
   "execution_count": 7,
   "id": "5d5f9761-5815-4064-91bc-1795faf9c952",
   "metadata": {},
   "outputs": [
    {
     "data": {
      "text/plain": [
       "5"
      ]
     },
     "execution_count": 7,
     "metadata": {},
     "output_type": "execute_result"
    }
   ],
   "source": [
    "3+2\n"
   ]
  },
  {
   "cell_type": "code",
   "execution_count": 2,
   "id": "6abb623f-1670-4a4c-aedf-3e2a153eb0b6",
   "metadata": {},
   "outputs": [
    {
     "data": {
      "text/plain": [
       "5"
      ]
     },
     "execution_count": 2,
     "metadata": {},
     "output_type": "execute_result"
    }
   ],
   "source": [
    "5-6+6"
   ]
  },
  {
   "cell_type": "code",
   "execution_count": 8,
   "id": "f0a120ac-d4f3-4f9c-9db9-a5e46e11e405",
   "metadata": {},
   "outputs": [
    {
     "data": {
      "text/plain": [
       "17"
      ]
     },
     "execution_count": 8,
     "metadata": {},
     "output_type": "execute_result"
    }
   ],
   "source": [
    " #This a simple arithmetic expression to multiply then add integers\n",
    "(3*4)+5"
   ]
  },
  {
   "cell_type": "code",
   "execution_count": 9,
   "id": "408d535c-d56d-4077-9f43-c36d9787aec6",
   "metadata": {},
   "outputs": [
    {
     "data": {
      "text/plain": [
       "3.3333333333333335"
      ]
     },
     "execution_count": 9,
     "metadata": {},
     "output_type": "execute_result"
    }
   ],
   "source": [
    " #This will convert 200 minutes to hours by diving by 60\n",
    "minutes=200\n",
    "hours=200/60\n",
    "hours"
   ]
  },
  {
   "cell_type": "markdown",
   "id": "20b50f9d-cd7f-426b-87dd-70ee5a0b8b65",
   "metadata": {},
   "source": [
    "<h2>author</h2>\n",
    "akshra singh "
   ]
  },
  {
   "cell_type": "code",
   "execution_count": null,
   "id": "127ef433-71b5-40e7-959f-9dee1ea08198",
   "metadata": {},
   "outputs": [],
   "source": []
  }
 ],
 "metadata": {
  "kernelspec": {
   "display_name": "Python 3 (ipykernel)",
   "language": "python",
   "name": "python3"
  },
  "language_info": {
   "codemirror_mode": {
    "name": "ipython",
    "version": 3
   },
   "file_extension": ".py",
   "mimetype": "text/x-python",
   "name": "python",
   "nbconvert_exporter": "python",
   "pygments_lexer": "ipython3",
   "version": "3.11.4"
  }
 },
 "nbformat": 4,
 "nbformat_minor": 5
}
